{
 "cells": [
  {
   "cell_type": "code",
   "execution_count": 19,
   "metadata": {},
   "outputs": [],
   "source": [
    "import pandas as pd\n",
    "import numpy as np\n",
    "from geopy.geocoders import MapBox\n",
    "import geopandas as gpd\n",
    "import rasterio\n",
    "from rasterio.plot import show as rstshow\n",
    "from rasterstats import zonal_stats\n",
    "import numpy as np\n",
    "from sklearn.preprocessing import StandardScaler\n",
    "from scipy import stats\n",
    "import tempfile\n",
    "import os\n",
    "import matplotlib.pyplot as plt\n",
    "import seaborn as sns\n",
    "from shapely.geometry import mapping\n",
    "import rioxarray as rxr\n",
    "import xarray as xr\n",
    "from mpl_toolkits.mplot3d import Axes3D\n",
    "import mplcursors\n",
    "import plotly.express as px\n",
    "import plotly.graph_objects as go\n",
    "%matplotlib widget"
   ]
  },
  {
   "cell_type": "markdown",
   "metadata": {},
   "source": [
    "## Get City Data"
   ]
  },
  {
   "cell_type": "code",
   "execution_count": 2,
   "metadata": {},
   "outputs": [],
   "source": [
    "#quick mapbox function to fill out coordinates for cities\n",
    "geolocator = MapBox(api_key='pk.eyJ1IjoianVzdGluZm1jY2FydHkiLCJhIjoiY2tkb3hnbzVzMDBuMTJ4bXl1eXdvc3oyaiJ9.Vl4TxX3lRX8YxfrFV8PJ8g')\n",
    "def lat(city,coordinate='latitude'):\n",
    "  if coordinate=='latitude':\n",
    "    point = geolocator.geocode(\"{}, British Columbia, Canada\".format(city))\n",
    "    lat = point.latitude\n",
    "    return lat\n",
    "  elif coordinate=='longitude': \n",
    "    point = geolocator.geocode(\"{}, British Columbia, Canada\".format(city))\n",
    "    long = point.longitude\n",
    "    return long \n",
    "  else:\n",
    "    return \"select latitude or longitude\""
   ]
  },
  {
   "cell_type": "code",
   "execution_count": 3,
   "metadata": {},
   "outputs": [
    {
     "data": {
      "text/html": [
       "<div>\n",
       "<style scoped>\n",
       "    .dataframe tbody tr th:only-of-type {\n",
       "        vertical-align: middle;\n",
       "    }\n",
       "\n",
       "    .dataframe tbody tr th {\n",
       "        vertical-align: top;\n",
       "    }\n",
       "\n",
       "    .dataframe thead th {\n",
       "        text-align: right;\n",
       "    }\n",
       "</style>\n",
       "<table border=\"1\" class=\"dataframe\">\n",
       "  <thead>\n",
       "    <tr style=\"text-align: right;\">\n",
       "      <th></th>\n",
       "      <th>Geographic code</th>\n",
       "      <th>Geographic name</th>\n",
       "      <th>Population centre size group</th>\n",
       "      <th>Province or territory</th>\n",
       "      <th>Incompletely enumerated Indian reserves and Indian settlements, 2016</th>\n",
       "      <th>Population, 2016</th>\n",
       "      <th>Population, 2011</th>\n",
       "      <th>2011 adjusted population flag</th>\n",
       "      <th>Population, % change</th>\n",
       "      <th>Total private dwellings, 2016</th>\n",
       "      <th>Private dwellings occupied by usual residents, 2016</th>\n",
       "      <th>Land area in square kilometres, 2016</th>\n",
       "      <th>Population density per square kilometre, 2016</th>\n",
       "      <th>latitude</th>\n",
       "      <th>longitude</th>\n",
       "    </tr>\n",
       "  </thead>\n",
       "  <tbody>\n",
       "    <tr>\n",
       "      <th>0</th>\n",
       "      <td>1559</td>\n",
       "      <td>Ladner</td>\n",
       "      <td>Small</td>\n",
       "      <td>British Columbia</td>\n",
       "      <td>F</td>\n",
       "      <td>22193</td>\n",
       "      <td>22179</td>\n",
       "      <td>T</td>\n",
       "      <td>0.1</td>\n",
       "      <td>8820</td>\n",
       "      <td>8644</td>\n",
       "      <td>7.37</td>\n",
       "      <td>3009.4</td>\n",
       "      <td>49.09</td>\n",
       "      <td>-123.08</td>\n",
       "    </tr>\n",
       "    <tr>\n",
       "      <th>1</th>\n",
       "      <td>973</td>\n",
       "      <td>Vancouver</td>\n",
       "      <td>Large urban</td>\n",
       "      <td>British Columbia</td>\n",
       "      <td>F</td>\n",
       "      <td>2264823</td>\n",
       "      <td>2124443</td>\n",
       "      <td>T</td>\n",
       "      <td>6.6</td>\n",
       "      <td>944471</td>\n",
       "      <td>883021</td>\n",
       "      <td>876.44</td>\n",
       "      <td>2584.1</td>\n",
       "      <td>49.26</td>\n",
       "      <td>-123.11</td>\n",
       "    </tr>\n",
       "    <tr>\n",
       "      <th>2</th>\n",
       "      <td>1048</td>\n",
       "      <td>Abbotsford</td>\n",
       "      <td>Large urban</td>\n",
       "      <td>British Columbia</td>\n",
       "      <td>F</td>\n",
       "      <td>121279</td>\n",
       "      <td>115011</td>\n",
       "      <td>T</td>\n",
       "      <td>5.4</td>\n",
       "      <td>45281</td>\n",
       "      <td>43007</td>\n",
       "      <td>68.50</td>\n",
       "      <td>1770.5</td>\n",
       "      <td>49.05</td>\n",
       "      <td>-122.33</td>\n",
       "    </tr>\n",
       "    <tr>\n",
       "      <th>3</th>\n",
       "      <td>1021</td>\n",
       "      <td>White Rock</td>\n",
       "      <td>Medium</td>\n",
       "      <td>British Columbia</td>\n",
       "      <td>F</td>\n",
       "      <td>93729</td>\n",
       "      <td>85062</td>\n",
       "      <td>T</td>\n",
       "      <td>10.2</td>\n",
       "      <td>41249</td>\n",
       "      <td>38780</td>\n",
       "      <td>53.54</td>\n",
       "      <td>1750.6</td>\n",
       "      <td>49.02</td>\n",
       "      <td>-122.80</td>\n",
       "    </tr>\n",
       "    <tr>\n",
       "      <th>4</th>\n",
       "      <td>1351</td>\n",
       "      <td>Pemberton</td>\n",
       "      <td>Small</td>\n",
       "      <td>British Columbia</td>\n",
       "      <td>F</td>\n",
       "      <td>1957</td>\n",
       "      <td>1738</td>\n",
       "      <td>T</td>\n",
       "      <td>12.6</td>\n",
       "      <td>756</td>\n",
       "      <td>720</td>\n",
       "      <td>1.12</td>\n",
       "      <td>1745.1</td>\n",
       "      <td>49.33</td>\n",
       "      <td>-123.12</td>\n",
       "    </tr>\n",
       "  </tbody>\n",
       "</table>\n",
       "</div>"
      ],
      "text/plain": [
       "   Geographic code Geographic name Population centre size group  \\\n",
       "0             1559          Ladner                        Small   \n",
       "1              973       Vancouver                  Large urban   \n",
       "2             1048      Abbotsford                  Large urban   \n",
       "3             1021      White Rock                       Medium   \n",
       "4             1351       Pemberton                        Small   \n",
       "\n",
       "  Province or territory  \\\n",
       "0      British Columbia   \n",
       "1      British Columbia   \n",
       "2      British Columbia   \n",
       "3      British Columbia   \n",
       "4      British Columbia   \n",
       "\n",
       "  Incompletely enumerated Indian reserves and Indian settlements, 2016  \\\n",
       "0                                                  F                     \n",
       "1                                                  F                     \n",
       "2                                                  F                     \n",
       "3                                                  F                     \n",
       "4                                                  F                     \n",
       "\n",
       "   Population, 2016  Population, 2011 2011 adjusted population flag  \\\n",
       "0             22193             22179                             T   \n",
       "1           2264823           2124443                             T   \n",
       "2            121279            115011                             T   \n",
       "3             93729             85062                             T   \n",
       "4              1957              1738                             T   \n",
       "\n",
       "   Population, % change  Total private dwellings, 2016  \\\n",
       "0                   0.1                           8820   \n",
       "1                   6.6                         944471   \n",
       "2                   5.4                          45281   \n",
       "3                  10.2                          41249   \n",
       "4                  12.6                            756   \n",
       "\n",
       "   Private dwellings occupied by usual residents, 2016  \\\n",
       "0                                               8644     \n",
       "1                                             883021     \n",
       "2                                              43007     \n",
       "3                                              38780     \n",
       "4                                                720     \n",
       "\n",
       "   Land area in square kilometres, 2016  \\\n",
       "0                                  7.37   \n",
       "1                                876.44   \n",
       "2                                 68.50   \n",
       "3                                 53.54   \n",
       "4                                  1.12   \n",
       "\n",
       "   Population density per square kilometre, 2016  latitude  longitude  \n",
       "0                                         3009.4     49.09    -123.08  \n",
       "1                                         2584.1     49.26    -123.11  \n",
       "2                                         1770.5     49.05    -122.33  \n",
       "3                                         1750.6     49.02    -122.80  \n",
       "4                                         1745.1     49.33    -123.12  "
      ]
     },
     "execution_count": 3,
     "metadata": {},
     "output_type": "execute_result"
    }
   ],
   "source": [
    "cityfile = 'https://raw.githubusercontent.com/justinfmccarty/bemcc/main/bc_populationcenters.csv'\n",
    "popcenters = pd.read_csv(cityfile)\n",
    "\n",
    "# might take a moment but grab the lat and long for the cities\n",
    "popcenters['latitude'] = popcenters.apply(lambda x: lat(x['Geographic name'],\n",
    "                                                        coordinate='latitude'),axis=1).round(2)\n",
    "popcenters['longitude'] = popcenters.apply(lambda x: lat(x['Geographic name'],\n",
    "                                                        coordinate='longitude'),axis=1).round(2)\n",
    "popcenters.head()"
   ]
  },
  {
   "cell_type": "code",
   "execution_count": 4,
   "metadata": {},
   "outputs": [],
   "source": [
    "citypts = gpd.GeoDataFrame(popcenters,\n",
    "                             geometry=gpd.points_from_xy(popcenters.longitude,\n",
    "                                                               popcenters.latitude))\n",
    "citypts.crs = 'epsg:4326'\n",
    "citiespoly = citypts.copy()\n",
    "citiespoly[\"geometry\"] = citiespoly.geometry.buffer(.05) \n"
   ]
  },
  {
   "cell_type": "markdown",
   "metadata": {},
   "source": [
    "## Pull Annual Solar Radiation"
   ]
  },
  {
   "cell_type": "code",
   "execution_count": 5,
   "metadata": {},
   "outputs": [
    {
     "name": "stderr",
     "output_type": "stream",
     "text": [
      "C:\\Users\\justi\\miniconda3\\envs\\bemaacc\\lib\\site-packages\\rasterstats\\io.py:301: UserWarning: Setting nodata to -999; specify nodata explicitly\n",
      "  warnings.warn(\"Setting nodata to -999; specify nodata explicitly\")\n"
     ]
    },
    {
     "name": "stdout",
     "output_type": "stream",
     "text": [
      "Finished with SRAD.\n"
     ]
    }
   ],
   "source": [
    "sradfiles = r'C:\\Users\\justi\\Dropbox\\Worldclim2\\historical\\wc2.1_2.5m_srad\\wc2.1_2.5m_srad_'\n",
    "\n",
    "df = pd.DataFrame()\n",
    "\n",
    "for i in list(range(1,13,1)):\n",
    "    z = \"{0:0=2d}\".format(i)\n",
    "    with rasterio.open(sradfiles + r'{}.tif'.format(z)) as src:\n",
    "\n",
    "        affine = src.transform\n",
    "        array = src.read(1)\n",
    "        df_zonal_stats = pd.DataFrame(zonal_stats(citiespoly, array, affine=affine,\n",
    "                                                 stats=['min', 'max', 'mean', 'nodata']))\n",
    "        s = df_zonal_stats['max']\n",
    "        df[str(z)] = df_zonal_stats['max']\n",
    "\n",
    "solar = df.sum(axis=1).rename('Annual Solar Radiation')\n",
    "print('Finished with SRAD.')"
   ]
  },
  {
   "cell_type": "markdown",
   "metadata": {},
   "source": [
    "## Pull Mean Annual Temperature"
   ]
  },
  {
   "cell_type": "code",
   "execution_count": 6,
   "metadata": {},
   "outputs": [
    {
     "name": "stdout",
     "output_type": "stream",
     "text": [
      "Finished with TAS.\n"
     ]
    }
   ],
   "source": [
    "tasfiles = r'C:\\Users\\justi\\Dropbox\\Worldclim2\\historical\\wc2.1_2.5m_tavg\\wc2.1_2.5m_tavg_'\n",
    "\n",
    "df = pd.DataFrame()\n",
    "\n",
    "for i in list(range(1,13,1)):\n",
    "    z = \"{0:0=2d}\".format(i)\n",
    "    with rasterio.open(tasfiles + r'{}.tif'.format(z)) as src:\n",
    "        affine = src.transform\n",
    "        array = src.read(1)\n",
    "        df_zonal_stats = pd.DataFrame(zonal_stats(citiespoly, array, affine=affine,\n",
    "                                                 stats=['min', 'max', 'mean', 'nodata']))\n",
    "        s = df_zonal_stats['max']\n",
    "        df[str(z)] = df_zonal_stats['max']\n",
    "\n",
    "tas = df.mean(axis=1).rename('Mean Annual Temperature')\n",
    "print('Finished with TAS.')"
   ]
  },
  {
   "cell_type": "markdown",
   "metadata": {},
   "source": [
    "## Concatenate Data"
   ]
  },
  {
   "cell_type": "code",
   "execution_count": 7,
   "metadata": {},
   "outputs": [
    {
     "data": {
      "text/html": [
       "<div>\n",
       "<style scoped>\n",
       "    .dataframe tbody tr th:only-of-type {\n",
       "        vertical-align: middle;\n",
       "    }\n",
       "\n",
       "    .dataframe tbody tr th {\n",
       "        vertical-align: top;\n",
       "    }\n",
       "\n",
       "    .dataframe thead th {\n",
       "        text-align: right;\n",
       "    }\n",
       "</style>\n",
       "<table border=\"1\" class=\"dataframe\">\n",
       "  <thead>\n",
       "    <tr style=\"text-align: right;\">\n",
       "      <th></th>\n",
       "      <th>Geographic code</th>\n",
       "      <th>Geographic name</th>\n",
       "      <th>Population centre size group</th>\n",
       "      <th>Province or territory</th>\n",
       "      <th>Incompletely enumerated Indian reserves and Indian settlements, 2016</th>\n",
       "      <th>Population, 2016</th>\n",
       "      <th>Population, 2011</th>\n",
       "      <th>2011 adjusted population flag</th>\n",
       "      <th>Population, % change</th>\n",
       "      <th>Total private dwellings, 2016</th>\n",
       "      <th>Private dwellings occupied by usual residents, 2016</th>\n",
       "      <th>Land area in square kilometres, 2016</th>\n",
       "      <th>Population density per square kilometre, 2016</th>\n",
       "      <th>latitude</th>\n",
       "      <th>longitude</th>\n",
       "      <th>geometry</th>\n",
       "      <th>Annual Solar Radiation</th>\n",
       "      <th>Mean Annual Temperature</th>\n",
       "    </tr>\n",
       "  </thead>\n",
       "  <tbody>\n",
       "    <tr>\n",
       "      <th>0</th>\n",
       "      <td>1559</td>\n",
       "      <td>Ladner</td>\n",
       "      <td>Small</td>\n",
       "      <td>British Columbia</td>\n",
       "      <td>F</td>\n",
       "      <td>22193</td>\n",
       "      <td>22179</td>\n",
       "      <td>T</td>\n",
       "      <td>0.1</td>\n",
       "      <td>8820</td>\n",
       "      <td>8644</td>\n",
       "      <td>7.37</td>\n",
       "      <td>3009.4</td>\n",
       "      <td>49.09</td>\n",
       "      <td>-123.08</td>\n",
       "      <td>POINT (-123.08000 49.09000)</td>\n",
       "      <td>139432.0</td>\n",
       "      <td>10.349970</td>\n",
       "    </tr>\n",
       "    <tr>\n",
       "      <th>1</th>\n",
       "      <td>973</td>\n",
       "      <td>Vancouver</td>\n",
       "      <td>Large urban</td>\n",
       "      <td>British Columbia</td>\n",
       "      <td>F</td>\n",
       "      <td>2264823</td>\n",
       "      <td>2124443</td>\n",
       "      <td>T</td>\n",
       "      <td>6.6</td>\n",
       "      <td>944471</td>\n",
       "      <td>883021</td>\n",
       "      <td>876.44</td>\n",
       "      <td>2584.1</td>\n",
       "      <td>49.26</td>\n",
       "      <td>-123.11</td>\n",
       "      <td>POINT (-123.11000 49.26000)</td>\n",
       "      <td>138428.0</td>\n",
       "      <td>10.721448</td>\n",
       "    </tr>\n",
       "    <tr>\n",
       "      <th>2</th>\n",
       "      <td>1048</td>\n",
       "      <td>Abbotsford</td>\n",
       "      <td>Large urban</td>\n",
       "      <td>British Columbia</td>\n",
       "      <td>F</td>\n",
       "      <td>121279</td>\n",
       "      <td>115011</td>\n",
       "      <td>T</td>\n",
       "      <td>5.4</td>\n",
       "      <td>45281</td>\n",
       "      <td>43007</td>\n",
       "      <td>68.50</td>\n",
       "      <td>1770.5</td>\n",
       "      <td>49.05</td>\n",
       "      <td>-122.33</td>\n",
       "      <td>POINT (-122.33000 49.05000)</td>\n",
       "      <td>138995.0</td>\n",
       "      <td>10.472667</td>\n",
       "    </tr>\n",
       "    <tr>\n",
       "      <th>3</th>\n",
       "      <td>1021</td>\n",
       "      <td>White Rock</td>\n",
       "      <td>Medium</td>\n",
       "      <td>British Columbia</td>\n",
       "      <td>F</td>\n",
       "      <td>93729</td>\n",
       "      <td>85062</td>\n",
       "      <td>T</td>\n",
       "      <td>10.2</td>\n",
       "      <td>41249</td>\n",
       "      <td>38780</td>\n",
       "      <td>53.54</td>\n",
       "      <td>1750.6</td>\n",
       "      <td>49.02</td>\n",
       "      <td>-122.80</td>\n",
       "      <td>POINT (-122.80000 49.02000)</td>\n",
       "      <td>140100.0</td>\n",
       "      <td>10.221056</td>\n",
       "    </tr>\n",
       "    <tr>\n",
       "      <th>4</th>\n",
       "      <td>1351</td>\n",
       "      <td>Pemberton</td>\n",
       "      <td>Small</td>\n",
       "      <td>British Columbia</td>\n",
       "      <td>F</td>\n",
       "      <td>1957</td>\n",
       "      <td>1738</td>\n",
       "      <td>T</td>\n",
       "      <td>12.6</td>\n",
       "      <td>756</td>\n",
       "      <td>720</td>\n",
       "      <td>1.12</td>\n",
       "      <td>1745.1</td>\n",
       "      <td>49.33</td>\n",
       "      <td>-123.12</td>\n",
       "      <td>POINT (-123.12000 49.33000)</td>\n",
       "      <td>138541.0</td>\n",
       "      <td>10.225855</td>\n",
       "    </tr>\n",
       "  </tbody>\n",
       "</table>\n",
       "</div>"
      ],
      "text/plain": [
       "   Geographic code Geographic name Population centre size group  \\\n",
       "0             1559          Ladner                        Small   \n",
       "1              973       Vancouver                  Large urban   \n",
       "2             1048      Abbotsford                  Large urban   \n",
       "3             1021      White Rock                       Medium   \n",
       "4             1351       Pemberton                        Small   \n",
       "\n",
       "  Province or territory  \\\n",
       "0      British Columbia   \n",
       "1      British Columbia   \n",
       "2      British Columbia   \n",
       "3      British Columbia   \n",
       "4      British Columbia   \n",
       "\n",
       "  Incompletely enumerated Indian reserves and Indian settlements, 2016  \\\n",
       "0                                                  F                     \n",
       "1                                                  F                     \n",
       "2                                                  F                     \n",
       "3                                                  F                     \n",
       "4                                                  F                     \n",
       "\n",
       "   Population, 2016  Population, 2011 2011 adjusted population flag  \\\n",
       "0             22193             22179                             T   \n",
       "1           2264823           2124443                             T   \n",
       "2            121279            115011                             T   \n",
       "3             93729             85062                             T   \n",
       "4              1957              1738                             T   \n",
       "\n",
       "   Population, % change  Total private dwellings, 2016  \\\n",
       "0                   0.1                           8820   \n",
       "1                   6.6                         944471   \n",
       "2                   5.4                          45281   \n",
       "3                  10.2                          41249   \n",
       "4                  12.6                            756   \n",
       "\n",
       "   Private dwellings occupied by usual residents, 2016  \\\n",
       "0                                               8644     \n",
       "1                                             883021     \n",
       "2                                              43007     \n",
       "3                                              38780     \n",
       "4                                                720     \n",
       "\n",
       "   Land area in square kilometres, 2016  \\\n",
       "0                                  7.37   \n",
       "1                                876.44   \n",
       "2                                 68.50   \n",
       "3                                 53.54   \n",
       "4                                  1.12   \n",
       "\n",
       "   Population density per square kilometre, 2016  latitude  longitude  \\\n",
       "0                                         3009.4     49.09    -123.08   \n",
       "1                                         2584.1     49.26    -123.11   \n",
       "2                                         1770.5     49.05    -122.33   \n",
       "3                                         1750.6     49.02    -122.80   \n",
       "4                                         1745.1     49.33    -123.12   \n",
       "\n",
       "                      geometry  Annual Solar Radiation  \\\n",
       "0  POINT (-123.08000 49.09000)                139432.0   \n",
       "1  POINT (-123.11000 49.26000)                138428.0   \n",
       "2  POINT (-122.33000 49.05000)                138995.0   \n",
       "3  POINT (-122.80000 49.02000)                140100.0   \n",
       "4  POINT (-123.12000 49.33000)                138541.0   \n",
       "\n",
       "   Mean Annual Temperature  \n",
       "0                10.349970  \n",
       "1                10.721448  \n",
       "2                10.472667  \n",
       "3                10.221056  \n",
       "4                10.225855  "
      ]
     },
     "execution_count": 7,
     "metadata": {},
     "output_type": "execute_result"
    }
   ],
   "source": [
    "gdf2 = pd.concat([citypts, solar, tas], axis=1) \n",
    "gdf2.head()"
   ]
  },
  {
   "cell_type": "code",
   "execution_count": 81,
   "metadata": {},
   "outputs": [],
   "source": [
    "dset = gdf2[['Geographic name',\n",
    "             'Population centre size group',\n",
    "             'Population, 2016',\n",
    "             'Total private dwellings, 2016',\n",
    "             'Population density per square kilometre, 2016',\n",
    "             'Mean Annual Temperature',\n",
    "             'Annual Solar Radiation',\n",
    "             'geometry']].copy()\n",
    "dset['Annual Solar Radiation'] = (dset['Annual Solar Radiation']/1000000).round(2)\n",
    "dset['Mean Annual Temperature'] = dset['Mean Annual Temperature'].round(2)\n",
    "dset = dset.rename(columns={'Population density per square kilometre, 2016':'Density',\n",
    "                           'Annual Solar Radiation': 'ASR',\n",
    "                           'Mean Annual Temperature': 'MAT',\n",
    "                           'Geographic name': 'Name',\n",
    "                           'Population centre size group':'Group'})"
   ]
  },
  {
   "cell_type": "markdown",
   "metadata": {},
   "source": [
    "## Plot"
   ]
  },
  {
   "cell_type": "code",
   "execution_count": 134,
   "metadata": {},
   "outputs": [
    {
     "data": {
      "application/vnd.plotly.v1+json": {
       "config": {
        "plotlyServerURL": "https://plot.ly"
       },
       "data": [
        {
         "customdata": [
          [
           "Ladner"
          ],
          [
           "Pemberton"
          ],
          [
           "Aldergrove"
          ],
          [
           "Tsawwassen"
          ],
          [
           "Nelson"
          ],
          [
           "Kitimat"
          ],
          [
           "Prince Rupert"
          ],
          [
           "Chemainus"
          ],
          [
           "Fort St. John"
          ],
          [
           "Aldergrove East"
          ],
          [
           "Port McNeill"
          ],
          [
           "Cranbrook"
          ],
          [
           "Logan Lake"
          ],
          [
           "Merritt"
          ],
          [
           "Lumby"
          ],
          [
           "Rossland"
          ],
          [
           "Squamish"
          ],
          [
           "Fernie"
          ],
          [
           "Osoyoos"
          ],
          [
           "Parksville"
          ],
          [
           "Kent"
          ],
          [
           "Duncan"
          ],
          [
           "Oliver"
          ],
          [
           "Salmon Arm"
          ],
          [
           "Kimberley"
          ],
          [
           "Harrison Hot Springs"
          ],
          [
           "Armstrong"
          ],
          [
           "Chase"
          ],
          [
           "Mackenzie"
          ],
          [
           "Rayleigh"
          ],
          [
           "Nakusp"
          ],
          [
           "Dawson Creek"
          ],
          [
           "Fort St. James"
          ],
          [
           "Cumberland"
          ],
          [
           "Hope"
          ],
          [
           "Invermere"
          ],
          [
           "Creston"
          ],
          [
           "Lake Cowichan"
          ],
          [
           "Welcome Beach"
          ],
          [
           "Sechelt"
          ],
          [
           "Ladysmith"
          ],
          [
           "Sooke"
          ],
          [
           "Whistler"
          ],
          [
           "Miller's Landing"
          ],
          [
           "One Hundred Mile House"
          ],
          [
           "Port Alberni"
          ],
          [
           "Summerland"
          ],
          [
           "Cedar"
          ],
          [
           "Houston"
          ],
          [
           "Fort Nelson"
          ],
          [
           "Powell River"
          ],
          [
           "Cowichan Bay"
          ],
          [
           "Port Hardy"
          ],
          [
           "Sicamous"
          ],
          [
           "Tumbler Ridge"
          ],
          [
           "Terrace"
          ],
          [
           "Enderby"
          ],
          [
           "Dallas"
          ],
          [
           "Lillooet"
          ],
          [
           "Golden"
          ],
          [
           "Vanderhoof"
          ],
          [
           "Gibsons"
          ],
          [
           "Burns Lake"
          ],
          [
           "Okanagan Falls"
          ],
          [
           "Revelstoke"
          ],
          [
           "Princeton"
          ],
          [
           "Castlegar"
          ],
          [
           "Elkford"
          ],
          [
           "Keremeos"
          ],
          [
           "Trail - Fruitvale"
          ],
          [
           "Ucluelet"
          ],
          [
           "Blind Bay"
          ],
          [
           "Cultus Lake"
          ],
          [
           "Cobble Hill"
          ],
          [
           "Grand Forks"
          ],
          [
           "Ashcroft"
          ],
          [
           "Shawnigan - Mill Bay"
          ],
          [
           "Lions Bay"
          ],
          [
           "Fairwinds"
          ],
          [
           "Smithers"
          ],
          [
           "Crofton"
          ],
          [
           "Williams Lake"
          ],
          [
           "Quesnel"
          ],
          [
           "Duck Lake"
          ],
          [
           "Peachland"
          ],
          [
           "Roberts Creek"
          ],
          [
           "Salmo"
          ],
          [
           "Rosedale"
          ],
          [
           "Naramata"
          ],
          [
           "Sparwood"
          ],
          [
           "Canoe"
          ],
          [
           "Telkwa"
          ],
          [
           "Puntledge"
          ]
         ],
         "hoverlabel": {
          "bgcolor": "white",
          "bordercolor": "black"
         },
         "hovertemplate": "Group=Small<br>MAT=%{x}<br>Density=%{y}<br>ASR=%{z}<br>Name=%{customdata[0]}<extra></extra>",
         "legendgroup": "Small",
         "marker": {
          "color": "#F8766D",
          "opacity": 0.7,
          "size": 3,
          "symbol": "circle"
         },
         "mode": "markers",
         "name": "Small",
         "scene": "scene",
         "showlegend": true,
         "type": "scatter3d",
         "x": [
          10.35,
          10.23,
          9.9,
          10.62,
          6.84,
          7.33,
          7.44,
          9.87,
          2.06,
          9.9,
          8.88,
          5.67,
          4.6,
          7.38,
          6.98,
          6.8,
          9.58,
          4.56,
          9.85,
          10.12,
          9.97,
          10.06,
          9.46,
          7.98,
          4.9,
          9.87,
          7.89,
          7.25,
          2.69,
          7.38,
          7.54,
          2.13,
          2.91,
          9.15,
          9.43,
          5.57,
          7.88,
          8.8,
          10.22,
          10.2,
          9.81,
          9.65,
          5.76,
          1.48,
          4.54,
          9.47,
          9.12,
          10.15,
          3.91,
          -0.45,
          10.09,
          9.98,
          8.67,
          7.65,
          3.3,
          6.86,
          7.74,
          7.38,
          8.05,
          4.62,
          3.25,
          9.85,
          2.83,
          8.84,
          6.84,
          6.71,
          8.38,
          2.24,
          7.45,
          8.2,
          9.64,
          7.43,
          9.77,
          9.81,
          7.88,
          8.69,
          9.66,
          10.15,
          10.54,
          4.24,
          9.87,
          5.44,
          5.4,
          8.48,
          8.97,
          9.89,
          6.59,
          10.68,
          9.28,
          3.39,
          7.95,
          4.09,
          9.79
         ],
         "y": [
          3009.4,
          1745.1,
          1738.9,
          1672,
          1552.3,
          1505.9,
          1492.3,
          1447.6,
          1404.3,
          1368.4,
          1333.7,
          1306.9,
          1284.2,
          1201.7,
          1140.4,
          1125,
          1089.6,
          1087.5,
          1081.8,
          1079.5,
          1073.6,
          1070.5,
          1056.2,
          1021.7,
          1020.4,
          1001.5,
          979.8,
          969.5,
          966.7,
          948.1,
          945.6,
          927.4,
          920.3,
          918.7,
          913.4,
          898.5,
          857.5,
          811.6,
          799.5,
          786.5,
          769.1,
          759.7,
          755.2,
          754.2,
          753.9,
          749.6,
          748.1,
          745.5,
          722,
          719.1,
          715.6,
          714.2,
          708.9,
          704.6,
          704,
          701.6,
          695.3,
          692.3,
          681,
          680.1,
          677.6,
          665.2,
          655.6,
          649.4,
          622.8,
          613,
          612.1,
          605.3,
          602.4,
          598.3,
          590.5,
          585.8,
          585.7,
          539,
          534.6,
          530.3,
          527.5,
          526.7,
          520.9,
          514.9,
          495.7,
          494.2,
          493,
          491.6,
          478.1,
          470.7,
          467,
          454.5,
          433.7,
          429.3,
          421.4,
          406.9,
          400.2
         ],
         "z": [
          0.14,
          0.14,
          0.14,
          0.14,
          0.16,
          0.12,
          0.12,
          0.14,
          0.13,
          0.14,
          0.13,
          0.16,
          0.15,
          0.15,
          0.15,
          0.16,
          0.14,
          0.16,
          0.16,
          0.79,
          0.14,
          0.14,
          0.16,
          0.15,
          0.16,
          0.14,
          0.15,
          0.15,
          0.13,
          0.15,
          0.15,
          0.14,
          0.13,
          0.13,
          0.14,
          0.16,
          0.16,
          0.14,
          0.14,
          0.14,
          0.14,
          0.14,
          0.14,
          0.13,
          0.14,
          0.13,
          0.15,
          0.14,
          0.12,
          0.12,
          0.14,
          0.14,
          0.13,
          0.15,
          0.14,
          0.12,
          0.15,
          0.15,
          0.14,
          0.15,
          0.13,
          0.79,
          0.13,
          0.15,
          0.15,
          0.15,
          0.16,
          0.16,
          0.15,
          0.16,
          0.79,
          0.15,
          0.14,
          0.14,
          0.16,
          0.14,
          0.14,
          0.79,
          0.79,
          0.12,
          0.14,
          0.14,
          0.14,
          0.15,
          0.15,
          0.79,
          0.16,
          0.14,
          0.15,
          0.16,
          0.15,
          0.12,
          0.14
         ]
        },
        {
         "customdata": [
          [
           "Vancouver"
          ],
          [
           "Abbotsford"
          ],
          [
           "Victoria"
          ],
          [
           "Kelowna"
          ]
         ],
         "hoverlabel": {
          "bgcolor": "white",
          "bordercolor": "black"
         },
         "hovertemplate": "Group=Large urban<br>MAT=%{x}<br>Density=%{y}<br>ASR=%{z}<br>Name=%{customdata[0]}<extra></extra>",
         "legendgroup": "Large urban",
         "marker": {
          "color": "#A3A500",
          "opacity": 0.7,
          "size": 3,
          "symbol": "circle"
         },
         "mode": "markers",
         "name": "Large urban",
         "scene": "scene",
         "showlegend": true,
         "type": "scatter3d",
         "visible": "legendonly",
         "x": [
          10.72,
          10.47,
          10.56,
          8.99
         ],
         "y": [
          2584.1,
          1770.5,
          1555,
          1113.8
         ],
         "z": [
          0.14,
          0.14,
          0.14,
          0.15
         ]
        },
        {
         "customdata": [
          [
           "White Rock"
          ],
          [
           "Kamloops"
          ],
          [
           "Chilliwack"
          ],
          [
           "Penticton"
          ],
          [
           "Mission"
          ],
          [
           "Nanaimo"
          ],
          [
           "Campbell River"
          ],
          [
           "Vernon"
          ],
          [
           "Prince George"
          ],
          [
           "Courtenay"
          ]
         ],
         "hoverlabel": {
          "bgcolor": "white",
          "bordercolor": "black"
         },
         "hovertemplate": "Group=Medium<br>MAT=%{x}<br>Density=%{y}<br>ASR=%{z}<br>Name=%{customdata[0]}<extra></extra>",
         "legendgroup": "Medium",
         "marker": {
          "color": "#00BF7D",
          "opacity": 0.7,
          "size": 3,
          "symbol": "circle"
         },
         "mode": "markers",
         "name": "Medium",
         "scene": "scene",
         "showlegend": true,
         "type": "scatter3d",
         "visible": "legendonly",
         "x": [
          10.22,
          8.57,
          10.68,
          9.38,
          10.39,
          10.17,
          9.66,
          8.56,
          4.69,
          9.79
         ],
         "y": [
          1750.6,
          1386.6,
          1352.6,
          1343.2,
          1335.2,
          1266.7,
          1143.9,
          959.9,
          933.5,
          811.6
         ],
         "z": [
          0.14,
          0.15,
          0.14,
          0.15,
          0.14,
          0.14,
          0.13,
          0.15,
          0.14,
          0.14
         ]
        }
       ],
       "layout": {
        "height": 600,
        "legend": {
         "orientation": "h",
         "title": {
          "text": "Group"
         },
         "tracegroupgap": 0,
         "xanchor": "center",
         "yanchor": "bottom"
        },
        "margin": {
         "b": 0,
         "l": 0,
         "r": 0,
         "t": 0
        },
        "scene": {
         "aspectmode": "auto",
         "aspectratio": {
          "x": 1,
          "y": 1,
          "z": 1
         },
         "camera": {
          "center": {
           "x": 0,
           "y": 0,
           "z": 0
          },
          "eye": {
           "x": 1.1101793410364922,
           "y": 2.1311130261087565,
           "z": 0.7146891969412171
          },
          "projection": {
           "type": "perspective"
          },
          "up": {
           "x": 0,
           "y": 0,
           "z": 1
          }
         },
         "domain": {
          "x": [
           0,
           1
          ],
          "y": [
           0,
           1
          ]
         },
         "xaxis": {
          "title": {
           "text": "MAT"
          },
          "type": "linear"
         },
         "yaxis": {
          "title": {
           "text": "Density"
          },
          "type": "linear"
         },
         "zaxis": {
          "title": {
           "text": "ASR"
          },
          "type": "linear"
         }
        },
        "template": {
         "data": {
          "bar": [
           {
            "error_x": {
             "color": "rgb(51,51,51)"
            },
            "error_y": {
             "color": "rgb(51,51,51)"
            },
            "marker": {
             "line": {
              "color": "rgb(237,237,237)",
              "width": 0.5
             }
            },
            "type": "bar"
           }
          ],
          "barpolar": [
           {
            "marker": {
             "line": {
              "color": "rgb(237,237,237)",
              "width": 0.5
             }
            },
            "type": "barpolar"
           }
          ],
          "carpet": [
           {
            "aaxis": {
             "endlinecolor": "rgb(51,51,51)",
             "gridcolor": "white",
             "linecolor": "white",
             "minorgridcolor": "white",
             "startlinecolor": "rgb(51,51,51)"
            },
            "baxis": {
             "endlinecolor": "rgb(51,51,51)",
             "gridcolor": "white",
             "linecolor": "white",
             "minorgridcolor": "white",
             "startlinecolor": "rgb(51,51,51)"
            },
            "type": "carpet"
           }
          ],
          "choropleth": [
           {
            "colorbar": {
             "outlinewidth": 0,
             "tickcolor": "rgb(237,237,237)",
             "ticklen": 6,
             "ticks": "inside"
            },
            "type": "choropleth"
           }
          ],
          "contour": [
           {
            "colorbar": {
             "outlinewidth": 0,
             "tickcolor": "rgb(237,237,237)",
             "ticklen": 6,
             "ticks": "inside"
            },
            "colorscale": [
             [
              0,
              "rgb(20,44,66)"
             ],
             [
              1,
              "rgb(90,179,244)"
             ]
            ],
            "type": "contour"
           }
          ],
          "contourcarpet": [
           {
            "colorbar": {
             "outlinewidth": 0,
             "tickcolor": "rgb(237,237,237)",
             "ticklen": 6,
             "ticks": "inside"
            },
            "type": "contourcarpet"
           }
          ],
          "heatmap": [
           {
            "colorbar": {
             "outlinewidth": 0,
             "tickcolor": "rgb(237,237,237)",
             "ticklen": 6,
             "ticks": "inside"
            },
            "colorscale": [
             [
              0,
              "rgb(20,44,66)"
             ],
             [
              1,
              "rgb(90,179,244)"
             ]
            ],
            "type": "heatmap"
           }
          ],
          "heatmapgl": [
           {
            "colorbar": {
             "outlinewidth": 0,
             "tickcolor": "rgb(237,237,237)",
             "ticklen": 6,
             "ticks": "inside"
            },
            "colorscale": [
             [
              0,
              "rgb(20,44,66)"
             ],
             [
              1,
              "rgb(90,179,244)"
             ]
            ],
            "type": "heatmapgl"
           }
          ],
          "histogram": [
           {
            "marker": {
             "colorbar": {
              "outlinewidth": 0,
              "tickcolor": "rgb(237,237,237)",
              "ticklen": 6,
              "ticks": "inside"
             }
            },
            "type": "histogram"
           }
          ],
          "histogram2d": [
           {
            "colorbar": {
             "outlinewidth": 0,
             "tickcolor": "rgb(237,237,237)",
             "ticklen": 6,
             "ticks": "inside"
            },
            "colorscale": [
             [
              0,
              "rgb(20,44,66)"
             ],
             [
              1,
              "rgb(90,179,244)"
             ]
            ],
            "type": "histogram2d"
           }
          ],
          "histogram2dcontour": [
           {
            "colorbar": {
             "outlinewidth": 0,
             "tickcolor": "rgb(237,237,237)",
             "ticklen": 6,
             "ticks": "inside"
            },
            "colorscale": [
             [
              0,
              "rgb(20,44,66)"
             ],
             [
              1,
              "rgb(90,179,244)"
             ]
            ],
            "type": "histogram2dcontour"
           }
          ],
          "mesh3d": [
           {
            "colorbar": {
             "outlinewidth": 0,
             "tickcolor": "rgb(237,237,237)",
             "ticklen": 6,
             "ticks": "inside"
            },
            "type": "mesh3d"
           }
          ],
          "parcoords": [
           {
            "line": {
             "colorbar": {
              "outlinewidth": 0,
              "tickcolor": "rgb(237,237,237)",
              "ticklen": 6,
              "ticks": "inside"
             }
            },
            "type": "parcoords"
           }
          ],
          "pie": [
           {
            "automargin": true,
            "type": "pie"
           }
          ],
          "scatter": [
           {
            "marker": {
             "colorbar": {
              "outlinewidth": 0,
              "tickcolor": "rgb(237,237,237)",
              "ticklen": 6,
              "ticks": "inside"
             }
            },
            "type": "scatter"
           }
          ],
          "scatter3d": [
           {
            "line": {
             "colorbar": {
              "outlinewidth": 0,
              "tickcolor": "rgb(237,237,237)",
              "ticklen": 6,
              "ticks": "inside"
             }
            },
            "marker": {
             "colorbar": {
              "outlinewidth": 0,
              "tickcolor": "rgb(237,237,237)",
              "ticklen": 6,
              "ticks": "inside"
             }
            },
            "type": "scatter3d"
           }
          ],
          "scattercarpet": [
           {
            "marker": {
             "colorbar": {
              "outlinewidth": 0,
              "tickcolor": "rgb(237,237,237)",
              "ticklen": 6,
              "ticks": "inside"
             }
            },
            "type": "scattercarpet"
           }
          ],
          "scattergeo": [
           {
            "marker": {
             "colorbar": {
              "outlinewidth": 0,
              "tickcolor": "rgb(237,237,237)",
              "ticklen": 6,
              "ticks": "inside"
             }
            },
            "type": "scattergeo"
           }
          ],
          "scattergl": [
           {
            "marker": {
             "colorbar": {
              "outlinewidth": 0,
              "tickcolor": "rgb(237,237,237)",
              "ticklen": 6,
              "ticks": "inside"
             }
            },
            "type": "scattergl"
           }
          ],
          "scattermapbox": [
           {
            "marker": {
             "colorbar": {
              "outlinewidth": 0,
              "tickcolor": "rgb(237,237,237)",
              "ticklen": 6,
              "ticks": "inside"
             }
            },
            "type": "scattermapbox"
           }
          ],
          "scatterpolar": [
           {
            "marker": {
             "colorbar": {
              "outlinewidth": 0,
              "tickcolor": "rgb(237,237,237)",
              "ticklen": 6,
              "ticks": "inside"
             }
            },
            "type": "scatterpolar"
           }
          ],
          "scatterpolargl": [
           {
            "marker": {
             "colorbar": {
              "outlinewidth": 0,
              "tickcolor": "rgb(237,237,237)",
              "ticklen": 6,
              "ticks": "inside"
             }
            },
            "type": "scatterpolargl"
           }
          ],
          "scatterternary": [
           {
            "marker": {
             "colorbar": {
              "outlinewidth": 0,
              "tickcolor": "rgb(237,237,237)",
              "ticklen": 6,
              "ticks": "inside"
             }
            },
            "type": "scatterternary"
           }
          ],
          "surface": [
           {
            "colorbar": {
             "outlinewidth": 0,
             "tickcolor": "rgb(237,237,237)",
             "ticklen": 6,
             "ticks": "inside"
            },
            "colorscale": [
             [
              0,
              "rgb(20,44,66)"
             ],
             [
              1,
              "rgb(90,179,244)"
             ]
            ],
            "type": "surface"
           }
          ],
          "table": [
           {
            "cells": {
             "fill": {
              "color": "rgb(237,237,237)"
             },
             "line": {
              "color": "white"
             }
            },
            "header": {
             "fill": {
              "color": "rgb(217,217,217)"
             },
             "line": {
              "color": "white"
             }
            },
            "type": "table"
           }
          ]
         },
         "layout": {
          "annotationdefaults": {
           "arrowhead": 0,
           "arrowwidth": 1
          },
          "coloraxis": {
           "colorbar": {
            "outlinewidth": 0,
            "tickcolor": "rgb(237,237,237)",
            "ticklen": 6,
            "ticks": "inside"
           }
          },
          "colorscale": {
           "sequential": [
            [
             0,
             "rgb(20,44,66)"
            ],
            [
             1,
             "rgb(90,179,244)"
            ]
           ],
           "sequentialminus": [
            [
             0,
             "rgb(20,44,66)"
            ],
            [
             1,
             "rgb(90,179,244)"
            ]
           ]
          },
          "colorway": [
           "#F8766D",
           "#A3A500",
           "#00BF7D",
           "#00B0F6",
           "#E76BF3"
          ],
          "font": {
           "color": "rgb(51,51,51)"
          },
          "geo": {
           "bgcolor": "white",
           "lakecolor": "white",
           "landcolor": "rgb(237,237,237)",
           "showlakes": true,
           "showland": true,
           "subunitcolor": "white"
          },
          "hoverlabel": {
           "align": "left"
          },
          "hovermode": "closest",
          "paper_bgcolor": "white",
          "plot_bgcolor": "rgb(237,237,237)",
          "polar": {
           "angularaxis": {
            "gridcolor": "white",
            "linecolor": "white",
            "showgrid": true,
            "tickcolor": "rgb(51,51,51)",
            "ticks": "outside"
           },
           "bgcolor": "rgb(237,237,237)",
           "radialaxis": {
            "gridcolor": "white",
            "linecolor": "white",
            "showgrid": true,
            "tickcolor": "rgb(51,51,51)",
            "ticks": "outside"
           }
          },
          "scene": {
           "xaxis": {
            "backgroundcolor": "rgb(237,237,237)",
            "gridcolor": "white",
            "gridwidth": 2,
            "linecolor": "white",
            "showbackground": true,
            "showgrid": true,
            "tickcolor": "rgb(51,51,51)",
            "ticks": "outside",
            "zerolinecolor": "white"
           },
           "yaxis": {
            "backgroundcolor": "rgb(237,237,237)",
            "gridcolor": "white",
            "gridwidth": 2,
            "linecolor": "white",
            "showbackground": true,
            "showgrid": true,
            "tickcolor": "rgb(51,51,51)",
            "ticks": "outside",
            "zerolinecolor": "white"
           },
           "zaxis": {
            "backgroundcolor": "rgb(237,237,237)",
            "gridcolor": "white",
            "gridwidth": 2,
            "linecolor": "white",
            "showbackground": true,
            "showgrid": true,
            "tickcolor": "rgb(51,51,51)",
            "ticks": "outside",
            "zerolinecolor": "white"
           }
          },
          "shapedefaults": {
           "fillcolor": "black",
           "line": {
            "width": 0
           },
           "opacity": 0.3
          },
          "ternary": {
           "aaxis": {
            "gridcolor": "white",
            "linecolor": "white",
            "showgrid": true,
            "tickcolor": "rgb(51,51,51)",
            "ticks": "outside"
           },
           "baxis": {
            "gridcolor": "white",
            "linecolor": "white",
            "showgrid": true,
            "tickcolor": "rgb(51,51,51)",
            "ticks": "outside"
           },
           "bgcolor": "rgb(237,237,237)",
           "caxis": {
            "gridcolor": "white",
            "linecolor": "white",
            "showgrid": true,
            "tickcolor": "rgb(51,51,51)",
            "ticks": "outside"
           }
          },
          "xaxis": {
           "automargin": true,
           "gridcolor": "white",
           "linecolor": "white",
           "showgrid": true,
           "tickcolor": "rgb(51,51,51)",
           "ticks": "outside",
           "title": {
            "standoff": 15
           },
           "zerolinecolor": "white"
          },
          "yaxis": {
           "automargin": true,
           "gridcolor": "white",
           "linecolor": "white",
           "showgrid": true,
           "tickcolor": "rgb(51,51,51)",
           "ticks": "outside",
           "title": {
            "standoff": 15
           },
           "zerolinecolor": "white"
          }
         }
        },
        "title": {
         "text": "Simple Classification of Cities in BC"
        },
        "width": 600
       }
      },
      "text/html": [
       "<div>                            <div id=\"8bdc44ca-7ac1-4cbc-9e3d-3f8dfe28fd48\" class=\"plotly-graph-div\" style=\"height:600px; width:600px;\"></div>            <script type=\"text/javascript\">                require([\"plotly\"], function(Plotly) {                    window.PLOTLYENV=window.PLOTLYENV || {};                                    if (document.getElementById(\"8bdc44ca-7ac1-4cbc-9e3d-3f8dfe28fd48\")) {                    Plotly.newPlot(                        \"8bdc44ca-7ac1-4cbc-9e3d-3f8dfe28fd48\",                        [{\"customdata\": [[\"Ladner\"], [\"Pemberton\"], [\"Aldergrove\"], [\"Tsawwassen\"], [\"Nelson\"], [\"Kitimat\"], [\"Prince Rupert\"], [\"Chemainus\"], [\"Fort St. John\"], [\"Aldergrove East\"], [\"Port McNeill\"], [\"Cranbrook\"], [\"Logan Lake\"], [\"Merritt\"], [\"Lumby\"], [\"Rossland\"], [\"Squamish\"], [\"Fernie\"], [\"Osoyoos\"], [\"Parksville\"], [\"Kent\"], [\"Duncan\"], [\"Oliver\"], [\"Salmon Arm\"], [\"Kimberley\"], [\"Harrison Hot Springs\"], [\"Armstrong\"], [\"Chase\"], [\"Mackenzie\"], [\"Rayleigh\"], [\"Nakusp\"], [\"Dawson Creek\"], [\"Fort St. James\"], [\"Cumberland\"], [\"Hope\"], [\"Invermere\"], [\"Creston\"], [\"Lake Cowichan\"], [\"Welcome Beach\"], [\"Sechelt\"], [\"Ladysmith\"], [\"Sooke\"], [\"Whistler\"], [\"Miller's Landing\"], [\"One Hundred Mile House\"], [\"Port Alberni\"], [\"Summerland\"], [\"Cedar\"], [\"Houston\"], [\"Fort Nelson\"], [\"Powell River\"], [\"Cowichan Bay\"], [\"Port Hardy\"], [\"Sicamous\"], [\"Tumbler Ridge\"], [\"Terrace\"], [\"Enderby\"], [\"Dallas\"], [\"Lillooet\"], [\"Golden\"], [\"Vanderhoof\"], [\"Gibsons\"], [\"Burns Lake\"], [\"Okanagan Falls\"], [\"Revelstoke\"], [\"Princeton\"], [\"Castlegar\"], [\"Elkford\"], [\"Keremeos\"], [\"Trail - Fruitvale\"], [\"Ucluelet\"], [\"Blind Bay\"], [\"Cultus Lake\"], [\"Cobble Hill\"], [\"Grand Forks\"], [\"Ashcroft\"], [\"Shawnigan - Mill Bay\"], [\"Lions Bay\"], [\"Fairwinds\"], [\"Smithers\"], [\"Crofton\"], [\"Williams Lake\"], [\"Quesnel\"], [\"Duck Lake\"], [\"Peachland\"], [\"Roberts Creek\"], [\"Salmo\"], [\"Rosedale\"], [\"Naramata\"], [\"Sparwood\"], [\"Canoe\"], [\"Telkwa\"], [\"Puntledge\"]], \"hoverlabel\": {\"bgcolor\": \"white\", \"bordercolor\": \"black\"}, \"hovertemplate\": \"Group=Small<br>MAT=%{x}<br>Density=%{y}<br>ASR=%{z}<br>Name=%{customdata[0]}<extra></extra>\", \"legendgroup\": \"Small\", \"marker\": {\"color\": \"#F8766D\", \"opacity\": 0.7, \"size\": 3, \"symbol\": \"circle\"}, \"mode\": \"markers\", \"name\": \"Small\", \"scene\": \"scene\", \"showlegend\": true, \"type\": \"scatter3d\", \"x\": [10.35, 10.23, 9.9, 10.62, 6.84, 7.33, 7.44, 9.87, 2.06, 9.9, 8.88, 5.67, 4.6, 7.38, 6.98, 6.8, 9.58, 4.56, 9.85, 10.12, 9.97, 10.06, 9.46, 7.98, 4.9, 9.87, 7.89, 7.25, 2.69, 7.38, 7.54, 2.13, 2.91, 9.15, 9.43, 5.57, 7.88, 8.8, 10.22, 10.2, 9.81, 9.65, 5.76, 1.48, 4.54, 9.47, 9.12, 10.15, 3.91, -0.45, 10.09, 9.98, 8.67, 7.65, 3.3, 6.86, 7.74, 7.38, 8.05, 4.62, 3.25, 9.85, 2.83, 8.84, 6.84, 6.71, 8.38, 2.24, 7.45, 8.2, 9.64, 7.43, 9.77, 9.81, 7.88, 8.69, 9.66, 10.15, 10.54, 4.24, 9.87, 5.44, 5.4, 8.48, 8.97, 9.89, 6.59, 10.68, 9.28, 3.39, 7.95, 4.09, 9.79], \"y\": [3009.4, 1745.1, 1738.9, 1672.0, 1552.3, 1505.9, 1492.3, 1447.6, 1404.3, 1368.4, 1333.7, 1306.9, 1284.2, 1201.7, 1140.4, 1125.0, 1089.6, 1087.5, 1081.8, 1079.5, 1073.6, 1070.5, 1056.2, 1021.7, 1020.4, 1001.5, 979.8, 969.5, 966.7, 948.1, 945.6, 927.4, 920.3, 918.7, 913.4, 898.5, 857.5, 811.6, 799.5, 786.5, 769.1, 759.7, 755.2, 754.2, 753.9, 749.6, 748.1, 745.5, 722.0, 719.1, 715.6, 714.2, 708.9, 704.6, 704.0, 701.6, 695.3, 692.3, 681.0, 680.1, 677.6, 665.2, 655.6, 649.4, 622.8, 613.0, 612.1, 605.3, 602.4, 598.3, 590.5, 585.8, 585.7, 539.0, 534.6, 530.3, 527.5, 526.7, 520.9, 514.9, 495.7, 494.2, 493.0, 491.6, 478.1, 470.7, 467.0, 454.5, 433.7, 429.3, 421.4, 406.9, 400.2], \"z\": [0.14, 0.14, 0.14, 0.14, 0.16, 0.12, 0.12, 0.14, 0.13, 0.14, 0.13, 0.16, 0.15, 0.15, 0.15, 0.16, 0.14, 0.16, 0.16, 0.79, 0.14, 0.14, 0.16, 0.15, 0.16, 0.14, 0.15, 0.15, 0.13, 0.15, 0.15, 0.14, 0.13, 0.13, 0.14, 0.16, 0.16, 0.14, 0.14, 0.14, 0.14, 0.14, 0.14, 0.13, 0.14, 0.13, 0.15, 0.14, 0.12, 0.12, 0.14, 0.14, 0.13, 0.15, 0.14, 0.12, 0.15, 0.15, 0.14, 0.15, 0.13, 0.79, 0.13, 0.15, 0.15, 0.15, 0.16, 0.16, 0.15, 0.16, 0.79, 0.15, 0.14, 0.14, 0.16, 0.14, 0.14, 0.79, 0.79, 0.12, 0.14, 0.14, 0.14, 0.15, 0.15, 0.79, 0.16, 0.14, 0.15, 0.16, 0.15, 0.12, 0.14]}, {\"customdata\": [[\"Vancouver\"], [\"Abbotsford\"], [\"Victoria\"], [\"Kelowna\"]], \"hoverlabel\": {\"bgcolor\": \"white\", \"bordercolor\": \"black\"}, \"hovertemplate\": \"Group=Large urban<br>MAT=%{x}<br>Density=%{y}<br>ASR=%{z}<br>Name=%{customdata[0]}<extra></extra>\", \"legendgroup\": \"Large urban\", \"marker\": {\"color\": \"#A3A500\", \"opacity\": 0.7, \"size\": 3, \"symbol\": \"circle\"}, \"mode\": \"markers\", \"name\": \"Large urban\", \"scene\": \"scene\", \"showlegend\": true, \"type\": \"scatter3d\", \"x\": [10.72, 10.47, 10.56, 8.99], \"y\": [2584.1, 1770.5, 1555.0, 1113.8], \"z\": [0.14, 0.14, 0.14, 0.15]}, {\"customdata\": [[\"White Rock\"], [\"Kamloops\"], [\"Chilliwack\"], [\"Penticton\"], [\"Mission\"], [\"Nanaimo\"], [\"Campbell River\"], [\"Vernon\"], [\"Prince George\"], [\"Courtenay\"]], \"hoverlabel\": {\"bgcolor\": \"white\", \"bordercolor\": \"black\"}, \"hovertemplate\": \"Group=Medium<br>MAT=%{x}<br>Density=%{y}<br>ASR=%{z}<br>Name=%{customdata[0]}<extra></extra>\", \"legendgroup\": \"Medium\", \"marker\": {\"color\": \"#00BF7D\", \"opacity\": 0.7, \"size\": 3, \"symbol\": \"circle\"}, \"mode\": \"markers\", \"name\": \"Medium\", \"scene\": \"scene\", \"showlegend\": true, \"type\": \"scatter3d\", \"x\": [10.22, 8.57, 10.68, 9.38, 10.39, 10.17, 9.66, 8.56, 4.69, 9.79], \"y\": [1750.6, 1386.6, 1352.6, 1343.2, 1335.2, 1266.7, 1143.9, 959.9, 933.5, 811.6], \"z\": [0.14, 0.15, 0.14, 0.15, 0.14, 0.14, 0.13, 0.15, 0.14, 0.14]}],                        {\"height\": 600, \"legend\": {\"orientation\": \"h\", \"title\": {\"text\": \"Group\"}, \"tracegroupgap\": 0, \"xanchor\": \"center\", \"yanchor\": \"bottom\"}, \"margin\": {\"b\": 0, \"l\": 0, \"r\": 0, \"t\": 0}, \"scene\": {\"domain\": {\"x\": [0.0, 1.0], \"y\": [0.0, 1.0]}, \"xaxis\": {\"title\": {\"text\": \"MAT\"}}, \"yaxis\": {\"title\": {\"text\": \"Density\"}}, \"zaxis\": {\"title\": {\"text\": \"ASR\"}}}, \"template\": {\"data\": {\"bar\": [{\"error_x\": {\"color\": \"rgb(51,51,51)\"}, \"error_y\": {\"color\": \"rgb(51,51,51)\"}, \"marker\": {\"line\": {\"color\": \"rgb(237,237,237)\", \"width\": 0.5}}, \"type\": \"bar\"}], \"barpolar\": [{\"marker\": {\"line\": {\"color\": \"rgb(237,237,237)\", \"width\": 0.5}}, \"type\": \"barpolar\"}], \"carpet\": [{\"aaxis\": {\"endlinecolor\": \"rgb(51,51,51)\", \"gridcolor\": \"white\", \"linecolor\": \"white\", \"minorgridcolor\": \"white\", \"startlinecolor\": \"rgb(51,51,51)\"}, \"baxis\": {\"endlinecolor\": \"rgb(51,51,51)\", \"gridcolor\": \"white\", \"linecolor\": \"white\", \"minorgridcolor\": \"white\", \"startlinecolor\": \"rgb(51,51,51)\"}, \"type\": \"carpet\"}], \"choropleth\": [{\"colorbar\": {\"outlinewidth\": 0, \"tickcolor\": \"rgb(237,237,237)\", \"ticklen\": 6, \"ticks\": \"inside\"}, \"type\": \"choropleth\"}], \"contour\": [{\"colorbar\": {\"outlinewidth\": 0, \"tickcolor\": \"rgb(237,237,237)\", \"ticklen\": 6, \"ticks\": \"inside\"}, \"colorscale\": [[0, \"rgb(20,44,66)\"], [1, \"rgb(90,179,244)\"]], \"type\": \"contour\"}], \"contourcarpet\": [{\"colorbar\": {\"outlinewidth\": 0, \"tickcolor\": \"rgb(237,237,237)\", \"ticklen\": 6, \"ticks\": \"inside\"}, \"type\": \"contourcarpet\"}], \"heatmap\": [{\"colorbar\": {\"outlinewidth\": 0, \"tickcolor\": \"rgb(237,237,237)\", \"ticklen\": 6, \"ticks\": \"inside\"}, \"colorscale\": [[0, \"rgb(20,44,66)\"], [1, \"rgb(90,179,244)\"]], \"type\": \"heatmap\"}], \"heatmapgl\": [{\"colorbar\": {\"outlinewidth\": 0, \"tickcolor\": \"rgb(237,237,237)\", \"ticklen\": 6, \"ticks\": \"inside\"}, \"colorscale\": [[0, \"rgb(20,44,66)\"], [1, \"rgb(90,179,244)\"]], \"type\": \"heatmapgl\"}], \"histogram\": [{\"marker\": {\"colorbar\": {\"outlinewidth\": 0, \"tickcolor\": \"rgb(237,237,237)\", \"ticklen\": 6, \"ticks\": \"inside\"}}, \"type\": \"histogram\"}], \"histogram2d\": [{\"colorbar\": {\"outlinewidth\": 0, \"tickcolor\": \"rgb(237,237,237)\", \"ticklen\": 6, \"ticks\": \"inside\"}, \"colorscale\": [[0, \"rgb(20,44,66)\"], [1, \"rgb(90,179,244)\"]], \"type\": \"histogram2d\"}], \"histogram2dcontour\": [{\"colorbar\": {\"outlinewidth\": 0, \"tickcolor\": \"rgb(237,237,237)\", \"ticklen\": 6, \"ticks\": \"inside\"}, \"colorscale\": [[0, \"rgb(20,44,66)\"], [1, \"rgb(90,179,244)\"]], \"type\": \"histogram2dcontour\"}], \"mesh3d\": [{\"colorbar\": {\"outlinewidth\": 0, \"tickcolor\": \"rgb(237,237,237)\", \"ticklen\": 6, \"ticks\": \"inside\"}, \"type\": \"mesh3d\"}], \"parcoords\": [{\"line\": {\"colorbar\": {\"outlinewidth\": 0, \"tickcolor\": \"rgb(237,237,237)\", \"ticklen\": 6, \"ticks\": \"inside\"}}, \"type\": \"parcoords\"}], \"pie\": [{\"automargin\": true, \"type\": \"pie\"}], \"scatter\": [{\"marker\": {\"colorbar\": {\"outlinewidth\": 0, \"tickcolor\": \"rgb(237,237,237)\", \"ticklen\": 6, \"ticks\": \"inside\"}}, \"type\": \"scatter\"}], \"scatter3d\": [{\"line\": {\"colorbar\": {\"outlinewidth\": 0, \"tickcolor\": \"rgb(237,237,237)\", \"ticklen\": 6, \"ticks\": \"inside\"}}, \"marker\": {\"colorbar\": {\"outlinewidth\": 0, \"tickcolor\": \"rgb(237,237,237)\", \"ticklen\": 6, \"ticks\": \"inside\"}}, \"type\": \"scatter3d\"}], \"scattercarpet\": [{\"marker\": {\"colorbar\": {\"outlinewidth\": 0, \"tickcolor\": \"rgb(237,237,237)\", \"ticklen\": 6, \"ticks\": \"inside\"}}, \"type\": \"scattercarpet\"}], \"scattergeo\": [{\"marker\": {\"colorbar\": {\"outlinewidth\": 0, \"tickcolor\": \"rgb(237,237,237)\", \"ticklen\": 6, \"ticks\": \"inside\"}}, \"type\": \"scattergeo\"}], \"scattergl\": [{\"marker\": {\"colorbar\": {\"outlinewidth\": 0, \"tickcolor\": \"rgb(237,237,237)\", \"ticklen\": 6, \"ticks\": \"inside\"}}, \"type\": \"scattergl\"}], \"scattermapbox\": [{\"marker\": {\"colorbar\": {\"outlinewidth\": 0, \"tickcolor\": \"rgb(237,237,237)\", \"ticklen\": 6, \"ticks\": \"inside\"}}, \"type\": \"scattermapbox\"}], \"scatterpolar\": [{\"marker\": {\"colorbar\": {\"outlinewidth\": 0, \"tickcolor\": \"rgb(237,237,237)\", \"ticklen\": 6, \"ticks\": \"inside\"}}, \"type\": \"scatterpolar\"}], \"scatterpolargl\": [{\"marker\": {\"colorbar\": {\"outlinewidth\": 0, \"tickcolor\": \"rgb(237,237,237)\", \"ticklen\": 6, \"ticks\": \"inside\"}}, \"type\": \"scatterpolargl\"}], \"scatterternary\": [{\"marker\": {\"colorbar\": {\"outlinewidth\": 0, \"tickcolor\": \"rgb(237,237,237)\", \"ticklen\": 6, \"ticks\": \"inside\"}}, \"type\": \"scatterternary\"}], \"surface\": [{\"colorbar\": {\"outlinewidth\": 0, \"tickcolor\": \"rgb(237,237,237)\", \"ticklen\": 6, \"ticks\": \"inside\"}, \"colorscale\": [[0, \"rgb(20,44,66)\"], [1, \"rgb(90,179,244)\"]], \"type\": \"surface\"}], \"table\": [{\"cells\": {\"fill\": {\"color\": \"rgb(237,237,237)\"}, \"line\": {\"color\": \"white\"}}, \"header\": {\"fill\": {\"color\": \"rgb(217,217,217)\"}, \"line\": {\"color\": \"white\"}}, \"type\": \"table\"}]}, \"layout\": {\"annotationdefaults\": {\"arrowhead\": 0, \"arrowwidth\": 1}, \"coloraxis\": {\"colorbar\": {\"outlinewidth\": 0, \"tickcolor\": \"rgb(237,237,237)\", \"ticklen\": 6, \"ticks\": \"inside\"}}, \"colorscale\": {\"sequential\": [[0, \"rgb(20,44,66)\"], [1, \"rgb(90,179,244)\"]], \"sequentialminus\": [[0, \"rgb(20,44,66)\"], [1, \"rgb(90,179,244)\"]]}, \"colorway\": [\"#F8766D\", \"#A3A500\", \"#00BF7D\", \"#00B0F6\", \"#E76BF3\"], \"font\": {\"color\": \"rgb(51,51,51)\"}, \"geo\": {\"bgcolor\": \"white\", \"lakecolor\": \"white\", \"landcolor\": \"rgb(237,237,237)\", \"showlakes\": true, \"showland\": true, \"subunitcolor\": \"white\"}, \"hoverlabel\": {\"align\": \"left\"}, \"hovermode\": \"closest\", \"paper_bgcolor\": \"white\", \"plot_bgcolor\": \"rgb(237,237,237)\", \"polar\": {\"angularaxis\": {\"gridcolor\": \"white\", \"linecolor\": \"white\", \"showgrid\": true, \"tickcolor\": \"rgb(51,51,51)\", \"ticks\": \"outside\"}, \"bgcolor\": \"rgb(237,237,237)\", \"radialaxis\": {\"gridcolor\": \"white\", \"linecolor\": \"white\", \"showgrid\": true, \"tickcolor\": \"rgb(51,51,51)\", \"ticks\": \"outside\"}}, \"scene\": {\"xaxis\": {\"backgroundcolor\": \"rgb(237,237,237)\", \"gridcolor\": \"white\", \"gridwidth\": 2, \"linecolor\": \"white\", \"showbackground\": true, \"showgrid\": true, \"tickcolor\": \"rgb(51,51,51)\", \"ticks\": \"outside\", \"zerolinecolor\": \"white\"}, \"yaxis\": {\"backgroundcolor\": \"rgb(237,237,237)\", \"gridcolor\": \"white\", \"gridwidth\": 2, \"linecolor\": \"white\", \"showbackground\": true, \"showgrid\": true, \"tickcolor\": \"rgb(51,51,51)\", \"ticks\": \"outside\", \"zerolinecolor\": \"white\"}, \"zaxis\": {\"backgroundcolor\": \"rgb(237,237,237)\", \"gridcolor\": \"white\", \"gridwidth\": 2, \"linecolor\": \"white\", \"showbackground\": true, \"showgrid\": true, \"tickcolor\": \"rgb(51,51,51)\", \"ticks\": \"outside\", \"zerolinecolor\": \"white\"}}, \"shapedefaults\": {\"fillcolor\": \"black\", \"line\": {\"width\": 0}, \"opacity\": 0.3}, \"ternary\": {\"aaxis\": {\"gridcolor\": \"white\", \"linecolor\": \"white\", \"showgrid\": true, \"tickcolor\": \"rgb(51,51,51)\", \"ticks\": \"outside\"}, \"baxis\": {\"gridcolor\": \"white\", \"linecolor\": \"white\", \"showgrid\": true, \"tickcolor\": \"rgb(51,51,51)\", \"ticks\": \"outside\"}, \"bgcolor\": \"rgb(237,237,237)\", \"caxis\": {\"gridcolor\": \"white\", \"linecolor\": \"white\", \"showgrid\": true, \"tickcolor\": \"rgb(51,51,51)\", \"ticks\": \"outside\"}}, \"xaxis\": {\"automargin\": true, \"gridcolor\": \"white\", \"linecolor\": \"white\", \"showgrid\": true, \"tickcolor\": \"rgb(51,51,51)\", \"ticks\": \"outside\", \"title\": {\"standoff\": 15}, \"zerolinecolor\": \"white\"}, \"yaxis\": {\"automargin\": true, \"gridcolor\": \"white\", \"linecolor\": \"white\", \"showgrid\": true, \"tickcolor\": \"rgb(51,51,51)\", \"ticks\": \"outside\", \"title\": {\"standoff\": 15}, \"zerolinecolor\": \"white\"}}}, \"title\": {\"text\": \"Simple Classification of Cities in BC\"}, \"width\": 600},                        {\"responsive\": true}                    ).then(function(){\n",
       "                            \n",
       "var gd = document.getElementById('8bdc44ca-7ac1-4cbc-9e3d-3f8dfe28fd48');\n",
       "var x = new MutationObserver(function (mutations, observer) {{\n",
       "        var display = window.getComputedStyle(gd).display;\n",
       "        if (!display || display === 'none') {{\n",
       "            console.log([gd, 'removed!']);\n",
       "            Plotly.purge(gd);\n",
       "            observer.disconnect();\n",
       "        }}\n",
       "}});\n",
       "\n",
       "// Listen for the removal of the full notebook cells\n",
       "var notebookContainer = gd.closest('#notebook-container');\n",
       "if (notebookContainer) {{\n",
       "    x.observe(notebookContainer, {childList: true});\n",
       "}}\n",
       "\n",
       "// Listen for the clearing of the current output cell\n",
       "var outputEl = gd.closest('.output');\n",
       "if (outputEl) {{\n",
       "    x.observe(outputEl, {childList: true});\n",
       "}}\n",
       "\n",
       "                        })                };                });            </script>        </div>"
      ]
     },
     "metadata": {},
     "output_type": "display_data"
    }
   ],
   "source": [
    "\n",
    "fig = px.scatter_3d(\n",
    "    dset,\n",
    "    x='MAT',\n",
    "    y='Density',\n",
    "    z='ASR',\n",
    "    color='Group',\n",
    "    hover_data=[\"Name\"],\n",
    "    template=\"ggplot2\",\n",
    "    title='Test',\n",
    "    width=600, height=600\n",
    ")\n",
    "fig.update_traces(\n",
    "    hoverlabel=dict(\n",
    "        bgcolor='white',\n",
    "        bordercolor='black'))\n",
    "# tight layout\n",
    "fig.update_layout(margin=dict(l=0, r=0, b=0, t=0))\n",
    "fig.update_layout(legend=dict(\n",
    "    orientation=\"h\",\n",
    "    yanchor=\"bottom\",\n",
    "    xanchor=\"center\"\n",
    "))\n",
    "fig.update_layout(title_text='Simple Classification of Cities in BC')\n",
    "fig.update_traces(marker=dict(size=3,\n",
    "                             opacity=0.7))"
   ]
  },
  {
   "cell_type": "markdown",
   "metadata": {},
   "source": [
    "## Combine Data With City Polygons"
   ]
  },
  {
   "cell_type": "code",
   "execution_count": null,
   "metadata": {},
   "outputs": [],
   "source": [
    "# Import Province Shapefile\n",
    "canada = gpd.read_file(r\"C:\\Users\\justi\\Dropbox\\GIS Dump\\BC\\StatCan\\Provinces\\lpr_000b16a_e.shp\")\n",
    "bc = canada[canada['PRNAME'].str.contains('British')]\n",
    "# bc = bc.crs('epsg=4326')\n",
    "\n",
    "# Import Cities\n",
    "centers = gpd.read_file(r\"C:\\Users\\justi\\Dropbox\\GIS Dump\\BC\\StatCan\\Population Centres\\lpc_000b16a_e.shp\")\n",
    "centers_bc = centers[centers['PRNAME'].str.contains('British')]\n",
    "# centers_bc.crs = 'epsg:4326'"
   ]
  },
  {
   "cell_type": "code",
   "execution_count": null,
   "metadata": {
    "scrolled": true
   },
   "outputs": [],
   "source": [
    "cities = centers_bc.copy()\n",
    "cities = cities.rename(columns={'PCNAME':'names'})\n",
    "cities.index = cities['names']\n",
    "cities = cities.sort_index()\n",
    "\n",
    "data = dset.copy()\n",
    "data = data.rename(columns={'Geographic name':'names'})\n",
    "data.index = data['names']\n",
    "data = data.sort_index()"
   ]
  },
  {
   "cell_type": "code",
   "execution_count": null,
   "metadata": {},
   "outputs": [],
   "source": [
    "bc2 = bc.to_crs('epsg:3005')\n",
    "cities2 = cities.to_crs('epsg:3005')\n",
    "data2 = data.to_crs('epsg:3005')"
   ]
  },
  {
   "cell_type": "code",
   "execution_count": null,
   "metadata": {},
   "outputs": [],
   "source": [
    "fig, ax = plt.subplots(figsize=(16,12))\n",
    "bc2.plot(ax=ax,color='red')\n",
    "cities2.plot(ax=ax,color='black')\n",
    "data2.plot(ax=ax,color='yellow')\n"
   ]
  },
  {
   "cell_type": "code",
   "execution_count": null,
   "metadata": {},
   "outputs": [],
   "source": [
    "# gpd.sjoin(cities2, data2, how=\"left\", op='intersects').to_file(r\"C:\\Users\\justi\\Desktop\\data.geojson\", driver='GeoJSON')"
   ]
  },
  {
   "cell_type": "code",
   "execution_count": null,
   "metadata": {
    "scrolled": true
   },
   "outputs": [],
   "source": []
  },
  {
   "cell_type": "code",
   "execution_count": null,
   "metadata": {},
   "outputs": [],
   "source": []
  },
  {
   "cell_type": "code",
   "execution_count": null,
   "metadata": {},
   "outputs": [],
   "source": [
    "# pd.concat([data,cities],axis=1)\n",
    "data.to_csv(r'C:\\Users\\justi\\Desktop\\data.csv')\n",
    "cities.to_csv(r\"C:\\Users\\justi\\Desktop\\cities.csv\")"
   ]
  },
  {
   "cell_type": "code",
   "execution_count": null,
   "metadata": {},
   "outputs": [],
   "source": [
    "tasfiles = r'C:\\Users\\justi\\Dropbox\\Worldclim2\\historical\\wc2.1_2.5m_tavg\\wc2.1_2.5m_tavg_'\n",
    "canada = gpd.read_file(r\"C:\\Users\\justi\\Dropbox\\GIS Dump\\BC\\StatCan\\Provinces\\lpr_000b16a_e.shp\")\n",
    "\n",
    "bc = canada[canada['PRNAME'].str.contains('British')]\n",
    "bc = bc.to_crs('epsg:4326')\n",
    "\n",
    "rc = rxr.open_rasterio(tasfiles + r'04.tif',masked=True).squeeze()\n",
    "\n",
    "\n",
    "fig, ax = plt.subplots(figsize=(12,12))\n",
    "rc.plot(ax=ax)\n",
    "# cities.plot(ax=ax, color='orangered')\n",
    "c.plot(ax=ax,color='black')"
   ]
  },
  {
   "cell_type": "code",
   "execution_count": null,
   "metadata": {},
   "outputs": [],
   "source": [
    "# rcx = rxr.open_rasterio(tasfiles + r'04.tif',masked=True).squeeze()\n",
    "# clipped = rcx.rio.clip(bc.geometry.apply(mapping))\n",
    "\n",
    "f, ax = plt.subplots(figsize=(10, 4))\n",
    "clipped.plot(ax=ax)\n",
    "cities.plot(ax=ax, color='black')\n",
    "ax.set(title=\"Raster Layer Cropped to Geodataframe Extent\")\n",
    "ax.set_axis_off()\n",
    "plt.show()\n"
   ]
  },
  {
   "cell_type": "code",
   "execution_count": null,
   "metadata": {},
   "outputs": [],
   "source": [
    "def monname(m):\n",
    "    if m=='01':\n",
    "        return 'January'\n",
    "    elif m=='02':\n",
    "        return 'February'\n",
    "    elif m=='03':\n",
    "        return 'March'\n",
    "    elif m=='04':\n",
    "        return 'April'\n",
    "    elif m=='05':\n",
    "        return 'May'\n",
    "    elif m=='06':\n",
    "        return 'June'\n",
    "    elif m=='07':\n",
    "        return 'July'\n",
    "    elif m=='08':\n",
    "        return 'August'\n",
    "    elif m=='09':\n",
    "        return 'September'\n",
    "    elif m=='10':\n",
    "        return 'October'\n",
    "    elif m=='11':\n",
    "        return 'November'\n",
    "    elif m=='12':\n",
    "        return 'December'\n",
    "    else:\n",
    "        return 'Unknown'\n",
    "    \n",
    "monname()"
   ]
  },
  {
   "cell_type": "code",
   "execution_count": 5,
   "metadata": {},
   "outputs": [],
   "source": [
    "# data = xr.DataArray(array[0])\n",
    "# data"
   ]
  }
 ],
 "metadata": {
  "kernelspec": {
   "display_name": "Python 3",
   "language": "python",
   "name": "python3"
  },
  "language_info": {
   "codemirror_mode": {
    "name": "ipython",
    "version": 3
   },
   "file_extension": ".py",
   "mimetype": "text/x-python",
   "name": "python",
   "nbconvert_exporter": "python",
   "pygments_lexer": "ipython3",
   "version": "3.8.5"
  }
 },
 "nbformat": 4,
 "nbformat_minor": 4
}
